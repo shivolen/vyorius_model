{
  "nbformat": 4,
  "nbformat_minor": 0,
  "metadata": {
    "colab": {
      "provenance": []
    },
    "kernelspec": {
      "name": "python3",
      "display_name": "Python 3"
    },
    "language_info": {
      "name": "python"
    }
  },
  "cells": [
    {
      "cell_type": "markdown",
      "source": [
        "input from dummy excel"
      ],
      "metadata": {
        "id": "ivz6A3Suddkj"
      }
    },
    {
      "cell_type": "code",
      "execution_count": 5,
      "metadata": {
        "id": "4YSkCEZeYqkN"
      },
      "outputs": [],
      "source": [
        "import pandas as pd\n",
        "\n",
        "data = [\n",
        "    [\"2025-04-06 09:00:01\", \"Excel\", \"Key\", \"Ctrl+O\", 200, 300, \"Open dialog\", \"open_file\"],\n",
        "    [\"2025-04-06 09:00:07\", \"Excel\", \"MouseClick\", \"Left\", 215, 320, \"File selected\", \"open_file\"],\n",
        "    [\"2025-04-06 09:01:15\", \"Excel\", \"Key\", \"Ctrl+C\", 420, 215, \"Copy cell\", \"copy_data\"],\n",
        "    [\"2025-04-06 09:01:20\", \"Excel\", \"Key\", \"Ctrl+V\", 440, 220, \"Paste cell\", \"copy_data\"],\n",
        "    [\"2025-04-06 09:02:40\", \"Excel\", \"Key\", \"Alt+N\", 310, 310, \"Open Insert menu\", \"insert_chart\"],\n",
        "    [\"2025-04-06 09:02:44\", \"Excel\", \"MouseClick\", \"Left\", 320, 325, \"Click 'Chart'\", \"insert_chart\"],\n",
        "    [\"2025-04-06 09:04:00\", \"Excel\", \"Key\", \"Ctrl+S\", 480, 240, \"Save file\", \"save_file\"],\n",
        "    [\"2025-04-06 09:04:20\", \"Excel\", \"Key\", \"Alt+F4\", 500, 250, \"Close app\", \"close_file\"],\n",
        "]\n",
        "\n",
        "columns = [\"Timestamp\", \"App\", \"Action Type\", \"Key/Button\", \"Cursor X\", \"Cursor Y\", \"Notes\", \"Intent\"]\n",
        "df = pd.DataFrame(data, columns=columns)\n"
      ]
    },
    {
      "cell_type": "markdown",
      "source": [
        "Preprocess"
      ],
      "metadata": {
        "id": "1lgn2u7jdeFr"
      }
    },
    {
      "cell_type": "code",
      "source": [
        "df['action_token'] = df['Action Type'] + ':' + df['Key/Button']\n",
        "\n",
        "sequences = []\n",
        "labels = []\n",
        "window_size = 3\n",
        "for i in range(len(df) - window_size + 1):\n",
        "    seq = df['action_token'].iloc[i:i+window_size].tolist()\n",
        "    label = df['Intent'].iloc[i+window_size-1]\n",
        "    sequences.append(seq)\n",
        "    labels.append(label)"
      ],
      "metadata": {
        "id": "dC39Z9nhdRLr"
      },
      "execution_count": 6,
      "outputs": []
    },
    {
      "cell_type": "markdown",
      "source": [
        "training the model"
      ],
      "metadata": {
        "id": "wx5kVcdydekT"
      }
    },
    {
      "cell_type": "code",
      "source": [
        "from sklearn.feature_extraction.text import TfidfVectorizer\n",
        "from sklearn.ensemble import RandomForestClassifier\n",
        "from sklearn.model_selection import train_test_split\n",
        "from sklearn.pipeline import Pipeline\n",
        "from sklearn.metrics import classification_report\n",
        "\n",
        "X = [' '.join(seq) for seq in sequences]\n",
        "y = labels\n",
        "\n",
        "X_train, X_test, y_train, y_test = train_test_split(X, y, test_size=0.2, random_state=42)\n",
        "pipeline = Pipeline([\n",
        "    ('tfidf', TfidfVectorizer()),\n",
        "    ('clf', RandomForestClassifier(n_estimators=100, random_state=42))\n",
        "])\n",
        "\n",
        "pipeline.fit(X_train, y_train)\n",
        "y_pred = pipeline.predict(X_test)\n",
        "print(classification_report(y_test, y_pred))\n"
      ],
      "metadata": {
        "colab": {
          "base_uri": "https://localhost:8080/"
        },
        "id": "VVYrvYEidUhM",
        "outputId": "f1ad28a7-d2f9-4ec0-f891-7ff41df47330"
      },
      "execution_count": 7,
      "outputs": [
        {
          "output_type": "stream",
          "name": "stdout",
          "text": [
            "              precision    recall  f1-score   support\n",
            "\n",
            "   copy_data       0.00      0.00      0.00       2.0\n",
            "insert_chart       0.00      0.00      0.00       0.0\n",
            "\n",
            "    accuracy                           0.00       2.0\n",
            "   macro avg       0.00      0.00      0.00       2.0\n",
            "weighted avg       0.00      0.00      0.00       2.0\n",
            "\n"
          ]
        },
        {
          "output_type": "stream",
          "name": "stderr",
          "text": [
            "/usr/local/lib/python3.11/dist-packages/sklearn/metrics/_classification.py:1565: UndefinedMetricWarning: Precision is ill-defined and being set to 0.0 in labels with no predicted samples. Use `zero_division` parameter to control this behavior.\n",
            "  _warn_prf(average, modifier, f\"{metric.capitalize()} is\", len(result))\n",
            "/usr/local/lib/python3.11/dist-packages/sklearn/metrics/_classification.py:1565: UndefinedMetricWarning: Recall is ill-defined and being set to 0.0 in labels with no true samples. Use `zero_division` parameter to control this behavior.\n",
            "  _warn_prf(average, modifier, f\"{metric.capitalize()} is\", len(result))\n",
            "/usr/local/lib/python3.11/dist-packages/sklearn/metrics/_classification.py:1565: UndefinedMetricWarning: Precision is ill-defined and being set to 0.0 in labels with no predicted samples. Use `zero_division` parameter to control this behavior.\n",
            "  _warn_prf(average, modifier, f\"{metric.capitalize()} is\", len(result))\n",
            "/usr/local/lib/python3.11/dist-packages/sklearn/metrics/_classification.py:1565: UndefinedMetricWarning: Recall is ill-defined and being set to 0.0 in labels with no true samples. Use `zero_division` parameter to control this behavior.\n",
            "  _warn_prf(average, modifier, f\"{metric.capitalize()} is\", len(result))\n",
            "/usr/local/lib/python3.11/dist-packages/sklearn/metrics/_classification.py:1565: UndefinedMetricWarning: Precision is ill-defined and being set to 0.0 in labels with no predicted samples. Use `zero_division` parameter to control this behavior.\n",
            "  _warn_prf(average, modifier, f\"{metric.capitalize()} is\", len(result))\n",
            "/usr/local/lib/python3.11/dist-packages/sklearn/metrics/_classification.py:1565: UndefinedMetricWarning: Recall is ill-defined and being set to 0.0 in labels with no true samples. Use `zero_division` parameter to control this behavior.\n",
            "  _warn_prf(average, modifier, f\"{metric.capitalize()} is\", len(result))\n"
          ]
        }
      ]
    },
    {
      "cell_type": "markdown",
      "source": [
        "Predict"
      ],
      "metadata": {
        "id": "AJtkMiE6dfW6"
      }
    },
    {
      "cell_type": "code",
      "source": [
        "new_sequence = [\"Key:Ctrl+C\", \"Key:Ctrl+V\", \"Key:Alt+N\"]\n",
        "sequence_input = ' '.join(new_sequence)\n",
        "predicted_intent = pipeline.predict([sequence_input])[0]\n",
        "print(f\"Predicted Intent: {predicted_intent}\")\n"
      ],
      "metadata": {
        "colab": {
          "base_uri": "https://localhost:8080/"
        },
        "id": "fWXyZDzydYtD",
        "outputId": "7af8e3e5-cc29-4ac6-e206-5d97f2f3d4db"
      },
      "execution_count": 8,
      "outputs": [
        {
          "output_type": "stream",
          "name": "stdout",
          "text": [
            "Predicted Intent: insert_chart\n"
          ]
        }
      ]
    },
    {
      "cell_type": "markdown",
      "source": [
        "Visualize sequences by predicted intent"
      ],
      "metadata": {
        "id": "dGRoW8Trd2pz"
      }
    },
    {
      "cell_type": "code",
      "source": [
        "import matplotlib.pyplot as plt\n",
        "import seaborn as sns\n",
        "y_pred = pipeline.predict(X_test)\n",
        "plt.figure(figsize=(8, 5))\n",
        "sns.countplot(x=y_pred, palette=\"viridis\")\n",
        "plt.title(\"Predicted Intents Distribution\")\n",
        "plt.xlabel(\"Intent\")\n",
        "plt.ylabel(\"Frequency\")\n",
        "plt.show()\n"
      ],
      "metadata": {
        "colab": {
          "base_uri": "https://localhost:8080/",
          "height": 574
        },
        "id": "VzjilL7VdbGK",
        "outputId": "9a82c59c-1750-4336-bec2-29143aafe9e3"
      },
      "execution_count": 9,
      "outputs": [
        {
          "output_type": "stream",
          "name": "stderr",
          "text": [
            "<ipython-input-9-1846baa2e74d>:5: FutureWarning: \n",
            "\n",
            "Passing `palette` without assigning `hue` is deprecated and will be removed in v0.14.0. Assign the `x` variable to `hue` and set `legend=False` for the same effect.\n",
            "\n",
            "  sns.countplot(x=y_pred, palette=\"viridis\")\n"
          ]
        },
        {
          "output_type": "display_data",
          "data": {
            "text/plain": [
              "<Figure size 800x500 with 1 Axes>"
            ],
            "image/png": "[encoded data removed]"
          },
          "metadata": {}
        }
      ]
    },
    {
      "cell_type": "markdown",
      "source": [
        " Display confidence scores"
      ],
      "metadata": {
        "id": "Kut4Q42gd_Yd"
      }
    },
    {
      "cell_type": "code",
      "source": [
        "\n",
        "new_sequence = [\"Key:Ctrl+C\", \"Key:Ctrl+V\", \"Key:Alt+N\"]\n",
        "sequence_input = ' '.join(new_sequence)\n",
        "probs = pipeline.predict_proba([sequence_input])[0]\n",
        "classes = pipeline.named_steps['clf'].classes_\n",
        "top_preds = sorted(zip(classes, probs), key=lambda x: x[1], reverse=True)[:3]\n",
        "for intent, score in top_preds:\n",
        "    print(f\"{intent}: {score:.2f}\")\n"
      ],
      "metadata": {
        "colab": {
          "base_uri": "https://localhost:8080/"
        },
        "id": "w5oLQb22d95j",
        "outputId": "0d188c5a-e39a-4cf0-ceb5-bd04aa751db5"
      },
      "execution_count": 10,
      "outputs": [
        {
          "output_type": "stream",
          "name": "stdout",
          "text": [
            "insert_chart: 0.73\n",
            "close_file: 0.19\n",
            "save_file: 0.08\n"
          ]
        }
      ]
    },
    {
      "cell_type": "markdown",
      "source": [
        "Create a feedback loop for active learning"
      ],
      "metadata": {
        "id": "kBvDKIvOd_Qb"
      }
    },
    {
      "cell_type": "code",
      "source": [
        "\n",
        "predicted = pipeline.predict([sequence_input])[0]\n",
        "print(f\"Model Prediction: {predicted}\")\n",
        "feedback = input(\"Was this correct? (y/n): \")\n",
        "\n",
        "if feedback.lower() == 'n':\n",
        "    correct_intent = input(\"Please enter the correct intent: \")\n",
        "    X_train.append(sequence_input)\n",
        "    y_train.append(correct_intent)\n",
        "    pipeline.fit(X_train, y_train)\n",
        "    print(\"Model updated with new feedback.\")\n"
      ],
      "metadata": {
        "colab": {
          "base_uri": "https://localhost:8080/"
        },
        "id": "RVIncpkUd-jr",
        "outputId": "0a302e73-f254-4c54-f05d-fd0403f6312c"
      },
      "execution_count": 11,
      "outputs": [
        {
          "name": "stdout",
          "output_type": "stream",
          "text": [
            "Model Prediction: insert_chart\n",
            "Was this correct? (y/n): y\n"
          ]
        }
      ]
    },
    {
      "cell_type": "code",
      "source": [],
      "metadata": {
        "id": "I21NRyRXePdz"
      },
      "execution_count": null,
      "outputs": []
    }
  ]
}